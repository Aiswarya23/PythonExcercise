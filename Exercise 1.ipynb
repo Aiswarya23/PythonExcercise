{
 "cells": [
  {
   "cell_type": "markdown",
   "metadata": {},
   "source": [
    "# 1. How to check if a string contains only numbers in Python"
   ]
  },
  {
   "cell_type": "markdown",
   "metadata": {},
   "source": [
    "### Method 1 :  str.isdecimal()          supports only Decimal Numbers"
   ]
  },
  {
   "cell_type": "code",
   "execution_count": 1,
   "metadata": {},
   "outputs": [
    {
     "name": "stdout",
     "output_type": "stream",
     "text": [
      "True\n"
     ]
    }
   ],
   "source": [
    "print(\"1234\".isdecimal())"
   ]
  },
  {
   "cell_type": "code",
   "execution_count": 7,
   "metadata": {},
   "outputs": [
    {
     "name": "stdout",
     "output_type": "stream",
     "text": [
      "True\n"
     ]
    }
   ],
   "source": [
    "print(\"0123456789\".isdecimal())"
   ]
  },
  {
   "cell_type": "code",
   "execution_count": 2,
   "metadata": {},
   "outputs": [
    {
     "name": "stdout",
     "output_type": "stream",
     "text": [
      "False\n"
     ]
    }
   ],
   "source": [
    "print(\"a1234\".isdecimal())"
   ]
  },
  {
   "cell_type": "code",
   "execution_count": 3,
   "metadata": {},
   "outputs": [
    {
     "ename": "AttributeError",
     "evalue": "'str' object has no attribute 'decimal'",
     "output_type": "error",
     "traceback": [
      "\u001b[1;31m---------------------------------------------------------------------------\u001b[0m",
      "\u001b[1;31mAttributeError\u001b[0m                            Traceback (most recent call last)",
      "\u001b[1;32m<ipython-input-3-29c14fb25b0d>\u001b[0m in \u001b[0;36m<module>\u001b[1;34m\u001b[0m\n\u001b[1;32m----> 1\u001b[1;33m \u001b[0mprint\u001b[0m\u001b[1;33m(\u001b[0m\u001b[1;34m\"-123\"\u001b[0m\u001b[1;33m.\u001b[0m\u001b[0mdecimal\u001b[0m\u001b[1;33m(\u001b[0m\u001b[1;33m)\u001b[0m\u001b[1;33m)\u001b[0m\u001b[1;33m\u001b[0m\u001b[1;33m\u001b[0m\u001b[0m\n\u001b[0m",
      "\u001b[1;31mAttributeError\u001b[0m: 'str' object has no attribute 'decimal'"
     ]
    }
   ],
   "source": [
    "print(\"-123\".decimal())"
   ]
  },
  {
   "cell_type": "markdown",
   "metadata": {},
   "source": [
    "### Method 2 : str.isdigit()  supports Decimals, Subscripts, Superscripts"
   ]
  },
  {
   "cell_type": "code",
   "execution_count": 8,
   "metadata": {},
   "outputs": [
    {
     "name": "stdout",
     "output_type": "stream",
     "text": [
      "True\n"
     ]
    }
   ],
   "source": [
    "print(\"1234\".isdigit())"
   ]
  },
  {
   "cell_type": "code",
   "execution_count": 9,
   "metadata": {},
   "outputs": [
    {
     "name": "stdout",
     "output_type": "stream",
     "text": [
      "False\n"
     ]
    }
   ],
   "source": [
    "print(\"a1234\".isdigit())"
   ]
  },
  {
   "cell_type": "markdown",
   "metadata": {},
   "source": [
    "### Method 3 : str.isnumeric()  supports Digits, Vulgar Fractions, Subscripts, Superscripts, Roman Numerals, Currency Numerators"
   ]
  },
  {
   "cell_type": "code",
   "execution_count": 10,
   "metadata": {},
   "outputs": [
    {
     "name": "stdout",
     "output_type": "stream",
     "text": [
      "True\n"
     ]
    }
   ],
   "source": [
    "print(\"1234\".isnumeric())"
   ]
  },
  {
   "cell_type": "code",
   "execution_count": 11,
   "metadata": {},
   "outputs": [
    {
     "name": "stdout",
     "output_type": "stream",
     "text": [
      "False\n"
     ]
    }
   ],
   "source": [
    "print(\"-1234\".isnumeric())"
   ]
  },
  {
   "cell_type": "markdown",
   "metadata": {},
   "source": [
    "### Method 4 : regex"
   ]
  },
  {
   "cell_type": "code",
   "execution_count": 19,
   "metadata": {},
   "outputs": [
    {
     "name": "stdout",
     "output_type": "stream",
     "text": [
      "Enter the Numeric string: 1234\n",
      "<class 'str'>\n",
      "123 is a numeric string\n"
     ]
    }
   ],
   "source": [
    "import re\n",
    "\n",
    "strings = input(\"Enter the Numeric string: \")\n",
    "print(type(strings))\n",
    "if re.match('^[0-9]*$', strings):\n",
    "    print(string,\"is a numeric string\")\n",
    "else:\n",
    "    print(string,\"is not a numeric string\")"
   ]
  },
  {
   "cell_type": "markdown",
   "metadata": {},
   "source": [
    "# 2. How to find duplicate characters in a String? "
   ]
  },
  {
   "cell_type": "code",
   "execution_count": 17,
   "metadata": {},
   "outputs": [
    {
     "name": "stdout",
     "output_type": "stream",
     "text": [
      "Enter the string: Aiswariya\n",
      "i\n",
      "a\n"
     ]
    }
   ],
   "source": [
    "string = input(\"Enter the string: \")\n",
    "\n",
    "for i in range(0,len(string)):\n",
    "    count = 1\n",
    "    for j in range(i+1,len(string)):\n",
    "        if (string[i] == string[j] and string[i]!=''):\n",
    "            count = count + 1\n",
    "            string = string[:j] + '0' + string[j+1:] \n",
    "            \n",
    "    if (count>1 and string[i]!='0'):\n",
    "        print(string[i])"
   ]
  },
  {
   "cell_type": "markdown",
   "metadata": {},
   "source": [
    "# 3. How to count a number of vowels and consonants in a given String?"
   ]
  },
  {
   "cell_type": "code",
   "execution_count": 18,
   "metadata": {},
   "outputs": [
    {
     "name": "stdout",
     "output_type": "stream",
     "text": [
      "Enter the string: Alphabets\n",
      "The number of consonants are: 6\n",
      "The number of vowels are: 3\n"
     ]
    }
   ],
   "source": [
    "string = input(\"Enter the string: \")\n",
    "\n",
    "vowels=0\n",
    "consonants=0\n",
    "\n",
    "for i in string:\n",
    "    if (i=='A' or i=='E' or i=='I' or i=='O' or i=='U'\n",
    "       or i=='a' or i=='e' or i=='i' or i=='o' or i=='u'):\n",
    "        vowels=vowels+1\n",
    "    else:\n",
    "        consonants=consonants+1\n",
    "        \n",
    "print(\"The number of consonants are:\",consonants) \n",
    "print(\"The number of vowels are:\",vowels) "
   ]
  },
  {
   "cell_type": "markdown",
   "metadata": {},
   "source": [
    "# 4. How to count the occurrence of a given character in String? "
   ]
  },
  {
   "cell_type": "code",
   "execution_count": 27,
   "metadata": {},
   "outputs": [
    {
     "name": "stdout",
     "output_type": "stream",
     "text": [
      "Enter the string: ANN\n",
      "Enter the character: n\n",
      "The occurence of  n  in  ANN : 2\n"
     ]
    }
   ],
   "source": [
    "str = input(\"Enter the string: \")\n",
    "i = input(\"Enter the character: \")\n",
    "\n",
    "x=str.lower()\n",
    "count = x.count(i)\n",
    "\n",
    "print(\"The occurence of \",i,\" in \",str,\":\",count)"
   ]
  },
  {
   "cell_type": "code",
   "execution_count": 28,
   "metadata": {},
   "outputs": [
    {
     "name": "stdout",
     "output_type": "stream",
     "text": [
      "Enter the string: ANN\n",
      "Enter the character: N\n",
      "The occurence of  N  in  ANN : 2\n"
     ]
    }
   ],
   "source": [
    "str = input(\"Enter the string: \")\n",
    "i = input(\"Enter the character: \")\n",
    "\n",
    "import re\n",
    "count=len(re.findall(i,str))\n",
    "\n",
    "print(\"The occurence of \",i,\" in \",str,\":\",count)"
   ]
  },
  {
   "cell_type": "markdown",
   "metadata": {},
   "source": [
    "# 5.\tHow to find all permutations of String? "
   ]
  },
  {
   "cell_type": "code",
   "execution_count": 5,
   "metadata": {},
   "outputs": [
    {
     "name": "stdout",
     "output_type": "stream",
     "text": [
      "Enter the string:HAT\n",
      "Permuation of the string HAT : \t ['HAT', 'HTA', 'AHT', 'ATH', 'THA', 'TAH']\n"
     ]
    }
   ],
   "source": [
    "from itertools import permutations\n",
    "\n",
    "x=input(\"Enter the string:\")\n",
    "permutation = [''.join(p) for p in permutations(x)]\n",
    "print(\"Permuation of the string\",x,': \\t',str(permutation))"
   ]
  },
  {
   "cell_type": "markdown",
   "metadata": {},
   "source": [
    "# 6.\tHow to find & count any given pattern from a text?\n",
    "e.g. ‘EDUCATION’, find number of ‘CAT' occurrence in the text?\n"
   ]
  },
  {
   "cell_type": "code",
   "execution_count": 6,
   "metadata": {},
   "outputs": [
    {
     "name": "stdout",
     "output_type": "stream",
     "text": [
      "The number of occurrence of CAT in EDUCATION is:  3\n"
     ]
    }
   ],
   "source": [
    "text = \"EDUCATION\"\n",
    "print(\"The number of occurrence of CAT in\",text,\"is: \",text.find(\"CAT\"))"
   ]
  },
  {
   "cell_type": "markdown",
   "metadata": {},
   "source": [
    "# 7.\tHow to remove duplicates from an array in place?"
   ]
  },
  {
   "cell_type": "markdown",
   "metadata": {},
   "source": [
    "### Method 1 : Using For loop"
   ]
  },
  {
   "cell_type": "code",
   "execution_count": 45,
   "metadata": {},
   "outputs": [
    {
     "name": "stdout",
     "output_type": "stream",
     "text": [
      "[1, 2, 3, 4, 5, 6]\n"
     ]
    }
   ],
   "source": [
    "list = [1,1,1,2,3,3,4,5,5,6,6]\n",
    "final_list = []\n",
    "for i in list:\n",
    "    if i not in final_list:\n",
    "        final_list.append(i)        \n",
    "print(final_list)"
   ]
  },
  {
   "cell_type": "markdown",
   "metadata": {},
   "source": [
    "### Method 2 : Using Numpy"
   ]
  },
  {
   "cell_type": "code",
   "execution_count": 43,
   "metadata": {},
   "outputs": [
    {
     "name": "stdout",
     "output_type": "stream",
     "text": [
      "[1, 2, 3, 4, 5, 6]\n"
     ]
    }
   ],
   "source": [
    "import numpy as np\n",
    "list = [1,1,1,2,3,3,4,5,5,6,6]\n",
    "final_list = np.unique(list).tolist()\n",
    "print(final_list)"
   ]
  },
  {
   "cell_type": "markdown",
   "metadata": {},
   "source": [
    "### Method 3 : Using Pandas"
   ]
  },
  {
   "cell_type": "code",
   "execution_count": 42,
   "metadata": {},
   "outputs": [
    {
     "name": "stdout",
     "output_type": "stream",
     "text": [
      "[1, 2, 3, 4, 5, 6]\n"
     ]
    }
   ],
   "source": [
    "import pandas as pd\n",
    "list = [1,1,1,2,3,3,4,5,5,6,6]\n",
    "final_list = pd.unique(list).tolist()\n",
    "print(final_list)"
   ]
  },
  {
   "cell_type": "markdown",
   "metadata": {},
   "source": [
    "### Method 4 : Using Set"
   ]
  },
  {
   "cell_type": "code",
   "execution_count": 46,
   "metadata": {},
   "outputs": [
    {
     "name": "stdout",
     "output_type": "stream",
     "text": [
      "{1, 2, 3, 4, 5, 6}\n"
     ]
    }
   ],
   "source": [
    "list = [1,1,1,2,3,3,4,5,5,6,6]\n",
    "final_list = set(list)\n",
    "print(final_list)"
   ]
  },
  {
   "cell_type": "markdown",
   "metadata": {},
   "source": [
    "# 8.\tHow to reverse a String?"
   ]
  },
  {
   "cell_type": "code",
   "execution_count": 29,
   "metadata": {},
   "outputs": [
    {
     "name": "stdout",
     "output_type": "stream",
     "text": [
      "Enter the string: Aiswarya\n",
      "ayrawsiA\n"
     ]
    }
   ],
   "source": [
    "str = input(\"Enter the string: \")\n",
    "print(str[::-1])"
   ]
  },
  {
   "cell_type": "code",
   "execution_count": 30,
   "metadata": {},
   "outputs": [
    {
     "name": "stdout",
     "output_type": "stream",
     "text": [
      "Enter the string: Aiswarya\n",
      "ayrawsiA\n"
     ]
    }
   ],
   "source": [
    "str = input(\"Enter the string: \")\n",
    "print(\"\".join(reversed(str)))"
   ]
  },
  {
   "cell_type": "markdown",
   "metadata": {},
   "source": [
    "# 9.\tHow to find the highest repeating word from a given file?"
   ]
  },
  {
   "cell_type": "code",
   "execution_count": 41,
   "metadata": {},
   "outputs": [
    {
     "name": "stdout",
     "output_type": "stream",
     "text": [
      "Highest repeated word: peter\n",
      "Frequency 4\n"
     ]
    }
   ],
   "source": [
    "file=open(\"Peter.txt\")\n",
    "freq_word=\"\"\n",
    "frequency=0\n",
    "words=[]\n",
    "\n",
    "for line in file:\n",
    "    line_word=line.lower().replace(',','').replace('.','').replace('?','').split(\" \")\n",
    "    for x in line_word:\n",
    "        words.append(x)\n",
    "\n",
    "for i in range(0,len(words)):\n",
    "    count=1\n",
    "    for j in range(i+1,len(words)):\n",
    "        if(words[i]==words[j]):\n",
    "            count=count+1\n",
    "            \n",
    "    if count>frequency :\n",
    "        frequency=count\n",
    "        freq_word=words[i]\n",
    "        \n",
    "print(\"Highest repeated word: \" + freq_word)\n",
    "print(\"Frequency\",frequency)\n",
    "file.close()"
   ]
  },
  {
   "cell_type": "markdown",
   "metadata": {},
   "source": [
    "# 10.\tHow to check if the given number is a prime number?"
   ]
  },
  {
   "cell_type": "code",
   "execution_count": 49,
   "metadata": {},
   "outputs": [
    {
     "name": "stdout",
     "output_type": "stream",
     "text": [
      "Enter the number:23\n",
      "23 is a prime number\n"
     ]
    }
   ],
   "source": [
    "n = int(input(\"Enter the number:\"))\n",
    "\n",
    "if n%2 != 0:\n",
    "    print(n,\"is a prime number\")\n",
    "else:\n",
    "    print(n,\"is not a prime number\")"
   ]
  },
  {
   "cell_type": "code",
   "execution_count": 52,
   "metadata": {},
   "outputs": [
    {
     "name": "stdout",
     "output_type": "stream",
     "text": [
      "Enter the number:11\n",
      "11 is prime\n"
     ]
    }
   ],
   "source": [
    "n = int(input(\"Enter the number:\"))\n",
    "\n",
    "if n>1 :\n",
    "    \n",
    "    for i in range(2, int(n/2)+1):\n",
    "        if n%i == 0:\n",
    "            print(n, \"not a prime\")\n",
    "            break\n",
    "    else:\n",
    "        print(n, \"is prime\")      \n",
    "else:\n",
    "    print(n,\"is not a prime number\")"
   ]
  },
  {
   "cell_type": "markdown",
   "metadata": {},
   "source": [
    "# 11.\tHow do you find all prime factors of a given number?"
   ]
  },
  {
   "cell_type": "code",
   "execution_count": 10,
   "metadata": {},
   "outputs": [
    {
     "name": "stdout",
     "output_type": "stream",
     "text": [
      "Enter the Number: 10\n",
      " 2 is a Prime Factor of a Given Number 10\n",
      " 5 is a Prime Factor of a Given Number 10\n"
     ]
    }
   ],
   "source": [
    "Number = int(input(\"Enter the Number: \"))\n",
    "\n",
    "i = 1\n",
    "\n",
    "while(i <= Number):\n",
    "    count = 0\n",
    "    if(Number % i == 0):\n",
    "        j = 1\n",
    "        while(j <= i):\n",
    "            if(i % j == 0):\n",
    "                count = count + 1\n",
    "            j = j + 1\n",
    "            \n",
    "        if (count == 2):\n",
    "            print(\" %d is a Prime Factor of a Given Number %d\" %(i, Number))\n",
    "    i = i + 1"
   ]
  },
  {
   "cell_type": "markdown",
   "metadata": {},
   "source": [
    "# 12.\tWrite a Program to transpose a Matrix?"
   ]
  },
  {
   "cell_type": "code",
   "execution_count": 57,
   "metadata": {},
   "outputs": [
    {
     "name": "stdout",
     "output_type": "stream",
     "text": [
      "[[1, 4, 8], [2, 6, 9]]\n"
     ]
    }
   ],
   "source": [
    "x=[[1,2],[4,6],[8,9]]\n",
    "result=[[0,0,0],[0,0,0]]\n",
    "\n",
    "for i in range(len(x)):\n",
    "    for j in range(len(x[0])):\n",
    "        result[j][i] = x[i][j]    \n",
    "        \n",
    "print(result)   "
   ]
  },
  {
   "cell_type": "markdown",
   "metadata": {},
   "source": [
    "# 13.\tWrite a Program to add or subtract two Matrices?"
   ]
  },
  {
   "cell_type": "code",
   "execution_count": 68,
   "metadata": {},
   "outputs": [
    {
     "name": "stdout",
     "output_type": "stream",
     "text": [
      "[[12 14 16]\n",
      " [18 20 22]\n",
      " [24 26 28]]\n",
      "[[10 10 10]\n",
      " [10 10 10]\n",
      " [10 10 10]]\n"
     ]
    }
   ],
   "source": [
    "import numpy as np\n",
    "\n",
    "x1 = np.array([[1,2,3],[4,5,6],[7,8,9]])\n",
    "x2 = np.array([[11,12,13],[14,15,16],[17,18,19]])\n",
    "\n",
    "print(np.add(x1,x2))\n",
    "print(np.subtract(x2,x1))"
   ]
  },
  {
   "cell_type": "markdown",
   "metadata": {},
   "source": [
    "# 14.\tHow to implement the Bubble Sort algorithm?"
   ]
  },
  {
   "cell_type": "code",
   "execution_count": 62,
   "metadata": {},
   "outputs": [
    {
     "name": "stdout",
     "output_type": "stream",
     "text": [
      "[3, 6, 9, 21, 33]\n"
     ]
    }
   ],
   "source": [
    "list = [21,6,9,33,3]\n",
    "\n",
    "n=len(list)\n",
    " \n",
    "for i in range (n-1):\n",
    "    for j in range(0,n-i-1):\n",
    "        if list[j]>list[j+1]:\n",
    "            temp=list[j+1]\n",
    "            list[j+1]=list[j]\n",
    "            list[j]=temp\n",
    "            \n",
    "print(list)            "
   ]
  },
  {
   "cell_type": "markdown",
   "metadata": {},
   "source": [
    "# 15.\tFind the words and its count for a given text file?"
   ]
  },
  {
   "cell_type": "code",
   "execution_count": 60,
   "metadata": {},
   "outputs": [
    {
     "name": "stdout",
     "output_type": "stream",
     "text": [
      "Number of words in a text file: 34\n",
      "Words in a text file: \n",
      " ['Peter', 'Piper', 'picked', 'a', 'peck', 'of', 'pickled', 'peppers', 'A', 'peck', 'of', 'pickled', 'peppers', 'Peter', 'Piper', 'picked', 'If', 'Peter', 'Piper', 'picked', 'a', 'peck', 'of', 'pickled', 'peppers', 'Whereâ€™s', 'the', 'peck', 'of', 'pickled', 'peppers', 'Peter', 'Piper', 'picked?']\n"
     ]
    }
   ],
   "source": [
    "file=open(\"Peter.txt\")\n",
    "data=file.read()\n",
    "words=data.split()\n",
    "\n",
    "print(\"Number of words in a text file:\",len(words))\n",
    "print(\"Words in a text file: \\n\",words)"
   ]
  }
 ],
 "metadata": {
  "kernelspec": {
   "display_name": "Python 3",
   "language": "python",
   "name": "python3"
  },
  "language_info": {
   "codemirror_mode": {
    "name": "ipython",
    "version": 3
   },
   "file_extension": ".py",
   "mimetype": "text/x-python",
   "name": "python",
   "nbconvert_exporter": "python",
   "pygments_lexer": "ipython3",
   "version": "3.8.3"
  }
 },
 "nbformat": 4,
 "nbformat_minor": 4
}
