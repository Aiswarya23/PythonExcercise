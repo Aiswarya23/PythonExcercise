{
 "cells": [
  {
   "cell_type": "code",
   "execution_count": 2,
   "metadata": {},
   "outputs": [
    {
     "name": "stdout",
     "output_type": "stream",
     "text": [
      "Enter the string/number: racecar\n",
      "racecar is a Palindrome\n"
     ]
    }
   ],
   "source": [
    "# 1 WAP to check whether a given string/number is a Palindrome or not\n",
    "\n",
    "s = input(\"Enter the string/number: \")\n",
    "\n",
    "if s == s[::-1]:\n",
    "    print(s[::-1],\"is a Palindrome\")\n",
    "else:\n",
    "    print(s,\"is not a plaindrome\")"
   ]
  },
  {
   "cell_type": "code",
   "execution_count": 6,
   "metadata": {},
   "outputs": [
    {
     "name": "stdout",
     "output_type": "stream",
     "text": [
      "Original Array: [24, 14, 65, 34, 12]\n",
      "Sorted Array: [12, 14, 24, 34, 65]\n"
     ]
    }
   ],
   "source": [
    "# 2 WAP to implement the insertion sort algorithm\n",
    "\n",
    "def sort(arr): # Function to do insertion sort\n",
    "    for i in range(1,len(arr)): #Traverse through 1 to len(arr)\n",
    "        key = arr[i]\n",
    "        j=i-1\n",
    "        while j>=0 and key<arr[j]:\n",
    "            arr[j+1]=arr[j]\n",
    "            j-=1\n",
    "        arr[j+1]=key\n",
    "        \n",
    "arr = [24,14,65,34,12]\n",
    "print(\"Original Array:\",arr)\n",
    "sort(arr)\n",
    "print(\"Sorted Array:\",arr)"
   ]
  },
  {
   "cell_type": "code",
   "execution_count": 9,
   "metadata": {},
   "outputs": [
    {
     "name": "stdout",
     "output_type": "stream",
     "text": [
      "**Original Array [14, 46, 43, 27, 57, 41, 45, 21, 70]\n",
      "Splitting  [14, 46, 43, 27, 57, 41, 45, 21, 70]\n",
      "Splitting  [14, 46, 43, 27]\n",
      "Splitting  [14, 46]\n",
      "Splitting  [14]\n",
      "Merging  [14]\n",
      "Splitting  [46]\n",
      "Merging  [46]\n",
      "Merging  [14, 46]\n",
      "Splitting  [43, 27]\n",
      "Splitting  [43]\n",
      "Merging  [43]\n",
      "Splitting  [27]\n",
      "Merging  [27]\n",
      "Merging  [27, 43]\n",
      "Merging  [14, 27, 43, 46]\n",
      "Splitting  [57, 41, 45, 21, 70]\n",
      "Splitting  [57, 41]\n",
      "Splitting  [57]\n",
      "Merging  [57]\n",
      "Splitting  [41]\n",
      "Merging  [41]\n",
      "Merging  [41, 57]\n",
      "Splitting  [45, 21, 70]\n",
      "Splitting  [45]\n",
      "Merging  [45]\n",
      "Splitting  [21, 70]\n",
      "Splitting  [21]\n",
      "Merging  [21]\n",
      "Splitting  [70]\n",
      "Merging  [70]\n",
      "Merging  [21, 70]\n",
      "Merging  [21, 45, 70]\n",
      "Merging  [21, 41, 45, 57, 70]\n",
      "Merging  [14, 21, 27, 41, 43, 45, 46, 57, 70]\n",
      "**Sorted Array [14, 21, 27, 41, 43, 45, 46, 57, 70]\n"
     ]
    }
   ],
   "source": [
    "# 3 Write a program to implement the merge sort algorithm\n",
    "\n",
    "def mergeSort(arr): # Function to do merge sort\n",
    "    print(\"Splitting \",arr)\n",
    "    if len(arr)>1:\n",
    "        mid = len(arr)//2\n",
    "        lefthalf = arr[:mid]\n",
    "        righthalf = arr[mid:]\n",
    "\n",
    "        mergeSort(lefthalf)\n",
    "        mergeSort(righthalf)\n",
    "        i=j=k=0       \n",
    "        while i < len(lefthalf) and j < len(righthalf):\n",
    "            if lefthalf[i] < righthalf[j]:\n",
    "                arr[k]=lefthalf[i]\n",
    "                i=i+1\n",
    "            else:\n",
    "                arr[k]=righthalf[j]\n",
    "                j=j+1\n",
    "            k=k+1\n",
    "\n",
    "        while i < len(lefthalf):\n",
    "            arr[k]=lefthalf[i]\n",
    "            i=i+1\n",
    "            k=k+1\n",
    "\n",
    "        while j < len(righthalf):\n",
    "            arr[k]=righthalf[j]\n",
    "            j=j+1\n",
    "            k=k+1\n",
    "    print(\"Merging \",arr)\n",
    "\n",
    "arr = [14,46,43,27,57,41,45,21,70]\n",
    "print(\"**Original Array\",arr)\n",
    "mergeSort(arr)\n",
    "print(\"**Sorted Array\",arr)\n"
   ]
  },
  {
   "cell_type": "code",
   "execution_count": 16,
   "metadata": {},
   "outputs": [
    {
     "name": "stdout",
     "output_type": "stream",
     "text": [
      "2 1 -3\n",
      "4 1 -5\n",
      "7 1 -8\n",
      "6 2 -8\n"
     ]
    }
   ],
   "source": [
    "# 4 WAP to find triplets in the array whose sum is zero\n",
    "\n",
    "# Method : Sort the array and identify  the triplets and should be solved in O(n^2) time.\n",
    "# Approach: For every element check that there is a pair whose sum is equal to the negative value of that element. \n",
    "  \n",
    "def findTriplets(lst, key):\n",
    "    found = False\n",
    "    for i in range(n-1):\n",
    "        s = set()\n",
    "        for j in range(i+1, n):\n",
    "            x = -(lst[i]+lst[j])\n",
    "            if x in s:\n",
    "                print(x,lst[i],lst[j])\n",
    "                found = True\n",
    "            else:\n",
    "                s.add(lst[j])\n",
    "    if found == False:\n",
    "        print(\"No Triplet Found\")\n",
    "\n",
    "list = [1, 2, -3, 4, -5, 6, 7, -8, 9, 10]\n",
    "n = len(list)\n",
    "findTriplets(list, n)"
   ]
  },
  {
   "cell_type": "code",
   "execution_count": 21,
   "metadata": {},
   "outputs": [],
   "source": [
    "# 5 WAP to Concatenate Two Lists and display the results\n",
    "\n",
    "list1=[1,2,3,4,5]\n",
    "list2=[2,3,4,5,6] "
   ]
  },
  {
   "cell_type": "code",
   "execution_count": 18,
   "metadata": {},
   "outputs": [
    {
     "name": "stdout",
     "output_type": "stream",
     "text": [
      "[1, 2, 3, 4, 5, 2, 3, 4, 5, 6]\n"
     ]
    }
   ],
   "source": [
    "print(list1+list2)"
   ]
  },
  {
   "cell_type": "code",
   "execution_count": 20,
   "metadata": {},
   "outputs": [
    {
     "name": "stdout",
     "output_type": "stream",
     "text": [
      "[1, 2, 3, 4, 5, 2, 3, 4, 5, 6]\n"
     ]
    }
   ],
   "source": [
    "list1.extend(list2) # list.extend()\n",
    "print(list1)"
   ]
  },
  {
   "cell_type": "code",
   "execution_count": 22,
   "metadata": {},
   "outputs": [
    {
     "name": "stdout",
     "output_type": "stream",
     "text": [
      "[1, 2, 3, 4, 5, 2, 3, 4, 5, 6]\n"
     ]
    }
   ],
   "source": [
    "for i in list2:\n",
    "    list1.append(i)\n",
    "    \n",
    "print(list1)   "
   ]
  },
  {
   "cell_type": "code",
   "execution_count": 23,
   "metadata": {},
   "outputs": [
    {
     "name": "stdout",
     "output_type": "stream",
     "text": [
      "Resultant dictionary is : {'ABC': 1, 'XYZ': 2, 'MNO': 3}\n"
     ]
    }
   ],
   "source": [
    "# 6 WAP to Convert Two Lists into a Dictionary\n",
    "\n",
    "list1 = [\"ABC\", \"XYZ\", \"MNO\"]\n",
    "list2 = [1, 2, 3]\n",
    "# using zip()function pairs the list element with other list element at corresponding index in form of key-value pairs.\n",
    "x = dict(zip(list1, list2))\n",
    "  \n",
    "# Printing resultant dictionary \n",
    "print (\"Resultant dictionary is : \" +  str(x))"
   ]
  },
  {
   "cell_type": "code",
   "execution_count": 25,
   "metadata": {},
   "outputs": [
    {
     "name": "stdout",
     "output_type": "stream",
     "text": [
      "[2, 4, 6]\n",
      "[8, 10, 12]\n",
      "[14, 16, 18]\n"
     ]
    }
   ],
   "source": [
    "# 7 WAP to Add Two Matrices\n",
    "\n",
    "X = [[1,2,3],[4,5,6],[7,8,9]]\n",
    "Y = [[1,2,3],[4,5,6],[7,8,9]]\n",
    " \n",
    "result = [[X[i][j] + Y[i][j]  for j in range(len(X[0]))] for i in range(len(X))]\n",
    "  \n",
    "for r in result:\n",
    "    print(r)"
   ]
  },
  {
   "cell_type": "code",
   "execution_count": 27,
   "metadata": {},
   "outputs": [],
   "source": [
    "# 8 WAP to create a Balanced Binary Search Tree (BST) using an array (given) elements where array elements are sorted in ascending order"
   ]
  },
  {
   "cell_type": "code",
   "execution_count": 28,
   "metadata": {},
   "outputs": [],
   "source": [
    "# 9 WAP to delete a node with the given key in a given Binary search tree (BST)."
   ]
  },
  {
   "cell_type": "code",
   "execution_count": null,
   "metadata": {},
   "outputs": [],
   "source": [
    "# 10 WAP to load a CSV file and display its contents\n",
    "\n",
    "import pandas as pd\n",
    "import numpy as np\n",
    "\n",
    "data = pd.read_csv(\"data path.csv\")\n",
    "data.head(10)"
   ]
  }
 ],
 "metadata": {
  "kernelspec": {
   "display_name": "Python 3",
   "language": "python",
   "name": "python3"
  },
  "language_info": {
   "codemirror_mode": {
    "name": "ipython",
    "version": 3
   },
   "file_extension": ".py",
   "mimetype": "text/x-python",
   "name": "python",
   "nbconvert_exporter": "python",
   "pygments_lexer": "ipython3",
   "version": "3.8.3"
  }
 },
 "nbformat": 4,
 "nbformat_minor": 4
}
